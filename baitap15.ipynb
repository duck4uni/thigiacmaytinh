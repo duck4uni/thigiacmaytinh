{
 "cells": [
  {
   "cell_type": "code",
   "execution_count": 2,
   "id": "5361db12-7213-473f-a772-70197d80bd52",
   "metadata": {},
   "outputs": [
    {
     "name": "stdout",
     "output_type": "stream",
     "text": [
      "Requirement already satisfied: scipy in f:\\anaconda3\\lib\\site-packages (1.13.1)\n",
      "Requirement already satisfied: numpy<2.3,>=1.22.4 in f:\\anaconda3\\lib\\site-packages (from scipy) (1.26.4)\n"
     ]
    }
   ],
   "source": [
    "#!pip install scipy"
   ]
  },
  {
   "cell_type": "code",
   "execution_count": 4,
   "id": "126311d3-8f59-44cd-bad2-4a6b9d8a1fc4",
   "metadata": {},
   "outputs": [],
   "source": [
    "from scipy import linalg\n",
    "import numpy as np"
   ]
  },
  {
   "cell_type": "code",
   "execution_count": 14,
   "id": "5a3cb6aa-6002-41ae-a0ed-a1e153ed8ee8",
   "metadata": {},
   "outputs": [
    {
     "name": "stdout",
     "output_type": "stream",
     "text": [
      "Kết quả:  [1.3 1.6]\n"
     ]
    }
   ],
   "source": [
    "# Định nghĩa hệ phương trình tuyến tính\n",
    "A = np.array([[4, 3], [2, -1]])\n",
    "b = np.array([10, 1])\n",
    "\n",
    "# Giải hệ phương trình tuyến tính\n",
    "x = linalg.solve(A, b)\n",
    "print(\"Kết quả: \", x)"
   ]
  },
  {
   "cell_type": "code",
   "execution_count": null,
   "id": "c9465c31-55e2-40a7-b9d3-644c63fd8109",
   "metadata": {},
   "outputs": [],
   "source": []
  },
  {
   "cell_type": "code",
   "execution_count": 18,
   "id": "47a2109e-9099-488f-9ed6-b523dc762565",
   "metadata": {},
   "outputs": [
    {
     "name": "stdout",
     "output_type": "stream",
     "text": [
      "Tích phân f(x) từ 0 đến 2:  0.8820813907624215\n"
     ]
    }
   ],
   "source": [
    "# Tính tích phân của một hàm số\n",
    "from scipy import integrate\n",
    "\n",
    "# Định nghĩa hàm f(x) = e^(-x^2)\n",
    "def my_function(x):\n",
    "    return np.exp(-x**2)\n",
    "\n",
    "# Tính tích phân của f(x) từ 0 đến 2\n",
    "integral, error = integrate.quad(my_function, 0, 2);\n",
    "print(\"Tích phân f(x) từ 0 đến 2: \", integral)"
   ]
  },
  {
   "cell_type": "code",
   "execution_count": 20,
   "id": "89863e77-3f53-4387-aae4-f910cbb8b2c0",
   "metadata": {},
   "outputs": [
    {
     "name": "stdout",
     "output_type": "stream",
     "text": [
      "Giá trị riêng:  [3.+0.j 2.+0.j]\n",
      "Vector riêng:  [[0.89442719 0.70710678]\n",
      " [0.4472136  0.70710678]]\n"
     ]
    }
   ],
   "source": [
    "# !pip install scipy\n",
    "from scipy import linalg\n",
    "import numpy as np\n",
    "\n",
    "# Tính giá trị riêng và vector riêng của một ma trận:\n",
    "A = np.array([[4, -2], [1, 1]])\n",
    "\n",
    "# Tính giá trị riêng và vector riêng của ma trận\n",
    "evals, evecs = linalg.eig(A)\n",
    "\n",
    "print(\"Giá trị riêng: \", evals)\n",
    "print(\"Vector riêng: \", evecs)"
   ]
  },
  {
   "cell_type": "code",
   "execution_count": null,
   "id": "fbbbd116-117d-49a9-8004-e3e5015d6e71",
   "metadata": {},
   "outputs": [],
   "source": []
  }
 ],
 "metadata": {
  "kernelspec": {
   "display_name": "Python 3 (ipykernel)",
   "language": "python",
   "name": "python3"
  },
  "language_info": {
   "codemirror_mode": {
    "name": "ipython",
    "version": 3
   },
   "file_extension": ".py",
   "mimetype": "text/x-python",
   "name": "python",
   "nbconvert_exporter": "python",
   "pygments_lexer": "ipython3",
   "version": "3.12.4"
  }
 },
 "nbformat": 4,
 "nbformat_minor": 5
}
